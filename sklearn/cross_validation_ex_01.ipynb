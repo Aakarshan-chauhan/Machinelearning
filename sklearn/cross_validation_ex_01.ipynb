{
 "cells": [
  {
   "cell_type": "markdown",
   "metadata": {},
   "source": [
    "# 📝 Exercise M2.01\n",
    "\n",
    "The aim of this exercise is to make the following experiments:\n",
    "\n",
    "* train and test a support vector machine classifier through\n",
    "  cross-validation;\n",
    "* study the effect of the parameter gamma of this classifier using a\n",
    "  validation curve;\n",
    "* study if it would be useful in term of classification if we could add new\n",
    "  samples in the dataset using a learning curve.\n",
    "\n",
    "To make these experiments we will first load the blood transfusion dataset."
   ]
  },
  {
   "cell_type": "markdown",
   "metadata": {},
   "source": [
    "<div class=\"admonition note alert alert-info\">\n",
    "<p class=\"first admonition-title\" style=\"font-weight: bold;\">Note</p>\n",
    "<p class=\"last\">If you want a deeper overview regarding this dataset, you can refer to the\n",
    "Appendix - Datasets description section at the end of this MOOC.</p>\n",
    "</div>"
   ]
  },
  {
   "cell_type": "code",
   "execution_count": 1,
   "metadata": {},
   "outputs": [],
   "source": [
    "import pandas as pd\n",
    "\n",
    "blood_transfusion = pd.read_csv(\"../datasets/blood_transfusion.csv\")\n",
    "data = blood_transfusion.drop(columns=\"Class\")\n",
    "target = blood_transfusion[\"Class\"]\n"
   ]
  },
  {
   "cell_type": "markdown",
   "metadata": {},
   "source": [
    "We will use a support vector machine classifier (SVM). In its most simple\n",
    "form, a SVM classifier is a linear classifier behaving similarly to a\n",
    "logistic regression. Indeed, the optimization used to find the optimal\n",
    "weights of the linear model are different but we don't need to know these\n",
    "details for the exercise.\n",
    "\n",
    "Also, this classifier can become more flexible/expressive by using a\n",
    "so-called kernel making the model becomes non-linear. Again, no requirement\n",
    "regarding the mathematics is required to accomplish this exercise.\n",
    "\n",
    "We will use an RBF kernel where a parameter `gamma` allows to tune the\n",
    "flexibility of the model.\n",
    "\n",
    "First let's create a predictive pipeline made of:\n",
    "\n",
    "* a [`sklearn.preprocessing.StandardScaler`](https://scikit-learn.org/stable/modules/generated/sklearn.preprocessing.StandardScaler.html)\n",
    "  with default parameter;\n",
    "* a [`sklearn.svm.SVC`](https://scikit-learn.org/stable/modules/generated/sklearn.svm.SVC.html)\n",
    "  where the parameter `kernel` could be set to `\"rbf\"`. Note that this is the\n",
    "  default."
   ]
  },
  {
   "cell_type": "code",
   "execution_count": 2,
   "metadata": {},
   "outputs": [
    {
     "data": {
      "text/html": [
       "<style>#sk-c10f75d9-0ffa-4f6e-b6b6-f1d552e9aa22 {color: black;background-color: white;}#sk-c10f75d9-0ffa-4f6e-b6b6-f1d552e9aa22 pre{padding: 0;}#sk-c10f75d9-0ffa-4f6e-b6b6-f1d552e9aa22 div.sk-toggleable {background-color: white;}#sk-c10f75d9-0ffa-4f6e-b6b6-f1d552e9aa22 label.sk-toggleable__label {cursor: pointer;display: block;width: 100%;margin-bottom: 0;padding: 0.2em 0.3em;box-sizing: border-box;text-align: center;}#sk-c10f75d9-0ffa-4f6e-b6b6-f1d552e9aa22 div.sk-toggleable__content {max-height: 0;max-width: 0;overflow: hidden;text-align: left;background-color: #f0f8ff;}#sk-c10f75d9-0ffa-4f6e-b6b6-f1d552e9aa22 div.sk-toggleable__content pre {margin: 0.2em;color: black;border-radius: 0.25em;background-color: #f0f8ff;}#sk-c10f75d9-0ffa-4f6e-b6b6-f1d552e9aa22 input.sk-toggleable__control:checked~div.sk-toggleable__content {max-height: 200px;max-width: 100%;overflow: auto;}#sk-c10f75d9-0ffa-4f6e-b6b6-f1d552e9aa22 div.sk-estimator input.sk-toggleable__control:checked~label.sk-toggleable__label {background-color: #d4ebff;}#sk-c10f75d9-0ffa-4f6e-b6b6-f1d552e9aa22 div.sk-label input.sk-toggleable__control:checked~label.sk-toggleable__label {background-color: #d4ebff;}#sk-c10f75d9-0ffa-4f6e-b6b6-f1d552e9aa22 input.sk-hidden--visually {border: 0;clip: rect(1px 1px 1px 1px);clip: rect(1px, 1px, 1px, 1px);height: 1px;margin: -1px;overflow: hidden;padding: 0;position: absolute;width: 1px;}#sk-c10f75d9-0ffa-4f6e-b6b6-f1d552e9aa22 div.sk-estimator {font-family: monospace;background-color: #f0f8ff;margin: 0.25em 0.25em;border: 1px dotted black;border-radius: 0.25em;box-sizing: border-box;}#sk-c10f75d9-0ffa-4f6e-b6b6-f1d552e9aa22 div.sk-estimator:hover {background-color: #d4ebff;}#sk-c10f75d9-0ffa-4f6e-b6b6-f1d552e9aa22 div.sk-parallel-item::after {content: \"\";width: 100%;border-bottom: 1px solid gray;flex-grow: 1;}#sk-c10f75d9-0ffa-4f6e-b6b6-f1d552e9aa22 div.sk-label:hover label.sk-toggleable__label {background-color: #d4ebff;}#sk-c10f75d9-0ffa-4f6e-b6b6-f1d552e9aa22 div.sk-serial::before {content: \"\";position: absolute;border-left: 1px solid gray;box-sizing: border-box;top: 2em;bottom: 0;left: 50%;}#sk-c10f75d9-0ffa-4f6e-b6b6-f1d552e9aa22 div.sk-serial {display: flex;flex-direction: column;align-items: center;background-color: white;}#sk-c10f75d9-0ffa-4f6e-b6b6-f1d552e9aa22 div.sk-item {z-index: 1;}#sk-c10f75d9-0ffa-4f6e-b6b6-f1d552e9aa22 div.sk-parallel {display: flex;align-items: stretch;justify-content: center;background-color: white;}#sk-c10f75d9-0ffa-4f6e-b6b6-f1d552e9aa22 div.sk-parallel-item {display: flex;flex-direction: column;position: relative;background-color: white;}#sk-c10f75d9-0ffa-4f6e-b6b6-f1d552e9aa22 div.sk-parallel-item:first-child::after {align-self: flex-end;width: 50%;}#sk-c10f75d9-0ffa-4f6e-b6b6-f1d552e9aa22 div.sk-parallel-item:last-child::after {align-self: flex-start;width: 50%;}#sk-c10f75d9-0ffa-4f6e-b6b6-f1d552e9aa22 div.sk-parallel-item:only-child::after {width: 0;}#sk-c10f75d9-0ffa-4f6e-b6b6-f1d552e9aa22 div.sk-dashed-wrapped {border: 1px dashed gray;margin: 0.2em;box-sizing: border-box;padding-bottom: 0.1em;background-color: white;position: relative;}#sk-c10f75d9-0ffa-4f6e-b6b6-f1d552e9aa22 div.sk-label label {font-family: monospace;font-weight: bold;background-color: white;display: inline-block;line-height: 1.2em;}#sk-c10f75d9-0ffa-4f6e-b6b6-f1d552e9aa22 div.sk-label-container {position: relative;z-index: 2;text-align: center;}#sk-c10f75d9-0ffa-4f6e-b6b6-f1d552e9aa22 div.sk-container {display: inline-block;position: relative;}</style><div id=\"sk-c10f75d9-0ffa-4f6e-b6b6-f1d552e9aa22\" class\"sk-top-container\"><div class=\"sk-container\"><div class=\"sk-item sk-dashed-wrapped\"><div class=\"sk-label-container\"><div class=\"sk-label sk-toggleable\"><input class=\"sk-toggleable__control sk-hidden--visually\" id=\"82c069b2-af36-4f78-a745-5d6f3d699856\" type=\"checkbox\" ><label class=\"sk-toggleable__label\" for=\"82c069b2-af36-4f78-a745-5d6f3d699856\">Pipeline</label><div class=\"sk-toggleable__content\"><pre>Pipeline(steps=[('standardscaler', StandardScaler()), ('svc', SVC())])</pre></div></div></div><div class=\"sk-serial\"><div class=\"sk-item\"><div class=\"sk-estimator sk-toggleable\"><input class=\"sk-toggleable__control sk-hidden--visually\" id=\"acc79b28-cf9d-4505-9c85-e42a11783f42\" type=\"checkbox\" ><label class=\"sk-toggleable__label\" for=\"acc79b28-cf9d-4505-9c85-e42a11783f42\">StandardScaler</label><div class=\"sk-toggleable__content\"><pre>StandardScaler()</pre></div></div></div><div class=\"sk-item\"><div class=\"sk-estimator sk-toggleable\"><input class=\"sk-toggleable__control sk-hidden--visually\" id=\"44e6cb71-d4d4-4c9e-9a2f-dbe1582c31e7\" type=\"checkbox\" ><label class=\"sk-toggleable__label\" for=\"44e6cb71-d4d4-4c9e-9a2f-dbe1582c31e7\">SVC</label><div class=\"sk-toggleable__content\"><pre>SVC()</pre></div></div></div></div></div></div></div>"
      ],
      "text/plain": [
       "Pipeline(steps=[('standardscaler', StandardScaler()), ('svc', SVC())])"
      ]
     },
     "execution_count": 2,
     "metadata": {},
     "output_type": "execute_result"
    }
   ],
   "source": [
    "\n",
    "from sklearn.pipeline import make_pipeline\n",
    "from sklearn import set_config\n",
    "set_config(display = \"diagram\")\n",
    "from sklearn.preprocessing import StandardScaler\n",
    "from sklearn.svm import SVC\n",
    "\n",
    "pipeline = make_pipeline(StandardScaler(), SVC(kernel = \"rbf\"))\n",
    "pipeline"
   ]
  },
  {
   "cell_type": "markdown",
   "metadata": {},
   "source": [
    "Evaluate the statistical performance of your model by cross-validation with a\n",
    "`ShuffleSplit` scheme. Thus, you can use\n",
    "[`sklearn.model_selection.cross_validate`](https://scikit-learn.org/stable/modules/generated/sklearn.model_selection.cross_validate.html)\n",
    "and pass a [`sklearn.model_selection.ShuffleSplit`](https://scikit-learn.org/stable/modules/generated/sklearn.model_selection.ShuffleSplit.html)\n",
    "to the `cv` parameter. Only fix the `random_state=0` in the `ShuffleSplit`\n",
    "and let the other parameters to the default."
   ]
  },
  {
   "cell_type": "code",
   "execution_count": 3,
   "metadata": {},
   "outputs": [
    {
     "data": {
      "text/html": [
       "<div>\n",
       "<style scoped>\n",
       "    .dataframe tbody tr th:only-of-type {\n",
       "        vertical-align: middle;\n",
       "    }\n",
       "\n",
       "    .dataframe tbody tr th {\n",
       "        vertical-align: top;\n",
       "    }\n",
       "\n",
       "    .dataframe thead th {\n",
       "        text-align: right;\n",
       "    }\n",
       "</style>\n",
       "<table border=\"1\" class=\"dataframe\">\n",
       "  <thead>\n",
       "    <tr style=\"text-align: right;\">\n",
       "      <th></th>\n",
       "      <th>fit_time</th>\n",
       "      <th>score_time</th>\n",
       "      <th>test_score</th>\n",
       "    </tr>\n",
       "  </thead>\n",
       "  <tbody>\n",
       "    <tr>\n",
       "      <th>0</th>\n",
       "      <td>0.014890</td>\n",
       "      <td>0.002462</td>\n",
       "      <td>0.680000</td>\n",
       "    </tr>\n",
       "    <tr>\n",
       "      <th>1</th>\n",
       "      <td>0.014471</td>\n",
       "      <td>0.002347</td>\n",
       "      <td>0.746667</td>\n",
       "    </tr>\n",
       "    <tr>\n",
       "      <th>2</th>\n",
       "      <td>0.014339</td>\n",
       "      <td>0.002444</td>\n",
       "      <td>0.786667</td>\n",
       "    </tr>\n",
       "    <tr>\n",
       "      <th>3</th>\n",
       "      <td>0.013599</td>\n",
       "      <td>0.002413</td>\n",
       "      <td>0.800000</td>\n",
       "    </tr>\n",
       "    <tr>\n",
       "      <th>4</th>\n",
       "      <td>0.014029</td>\n",
       "      <td>0.002382</td>\n",
       "      <td>0.746667</td>\n",
       "    </tr>\n",
       "    <tr>\n",
       "      <th>5</th>\n",
       "      <td>0.013642</td>\n",
       "      <td>0.002301</td>\n",
       "      <td>0.786667</td>\n",
       "    </tr>\n",
       "    <tr>\n",
       "      <th>6</th>\n",
       "      <td>0.013422</td>\n",
       "      <td>0.002301</td>\n",
       "      <td>0.800000</td>\n",
       "    </tr>\n",
       "    <tr>\n",
       "      <th>7</th>\n",
       "      <td>0.012619</td>\n",
       "      <td>0.002299</td>\n",
       "      <td>0.826667</td>\n",
       "    </tr>\n",
       "    <tr>\n",
       "      <th>8</th>\n",
       "      <td>0.013107</td>\n",
       "      <td>0.002347</td>\n",
       "      <td>0.746667</td>\n",
       "    </tr>\n",
       "    <tr>\n",
       "      <th>9</th>\n",
       "      <td>0.013135</td>\n",
       "      <td>0.002281</td>\n",
       "      <td>0.733333</td>\n",
       "    </tr>\n",
       "  </tbody>\n",
       "</table>\n",
       "</div>"
      ],
      "text/plain": [
       "   fit_time  score_time  test_score\n",
       "0  0.014890    0.002462    0.680000\n",
       "1  0.014471    0.002347    0.746667\n",
       "2  0.014339    0.002444    0.786667\n",
       "3  0.013599    0.002413    0.800000\n",
       "4  0.014029    0.002382    0.746667\n",
       "5  0.013642    0.002301    0.786667\n",
       "6  0.013422    0.002301    0.800000\n",
       "7  0.012619    0.002299    0.826667\n",
       "8  0.013107    0.002347    0.746667\n",
       "9  0.013135    0.002281    0.733333"
      ]
     },
     "execution_count": 3,
     "metadata": {},
     "output_type": "execute_result"
    }
   ],
   "source": [
    "from sklearn.model_selection import cross_validate\n",
    "from sklearn.model_selection import ShuffleSplit\n",
    "import numpy as np\n",
    "\n",
    "cv = ShuffleSplit(random_state = 0)\n",
    "#train_size = np.linspace(0, 1, 5)\n",
    "cv_results = cross_validate(pipeline, data, target, cv = cv, n_jobs=2)\n",
    "cv_results = pd.DataFrame(cv_results)\n",
    "cv_results"
   ]
  },
  {
   "cell_type": "code",
   "execution_count": 4,
   "metadata": {},
   "outputs": [
    {
     "name": "stdout",
     "output_type": "stream",
     "text": [
      " Accuracy 0.77 +/- 0.04\n"
     ]
    }
   ],
   "source": [
    "print(f\" Accuracy {cv_results['test_score'].mean():.2f} +/- {cv_results['test_score'].std():.2f}\")"
   ]
  },
  {
   "cell_type": "markdown",
   "metadata": {},
   "source": [
    "As previously mentioned, the parameter `gamma` is one of the parameter\n",
    "controlling under/over-fitting in support vector machine with an RBF kernel.\n",
    "\n",
    "Compute the validation curve\n",
    "(using [`sklearn.model_selection.validation_curve`](https://scikit-learn.org/stable/modules/generated/sklearn.model_selection.validation_curve.html))\n",
    "to evaluate the effect of the parameter `gamma`. You can vary its value\n",
    "between `10e-3` and `10e2` by generating samples on a logarithmic scale.\n",
    "Thus, you can use `np.logspace(-3, 2, num=30)`.\n",
    "\n",
    "Since we are manipulating a `Pipeline` the parameter name will be set to\n",
    "`svc__gamma` instead of only `gamma`. You can retrieve the parameter name\n",
    "using `model.get_params().keys()`. We will go more into details regarding\n",
    "accessing and setting hyperparameter in the next section."
   ]
  },
  {
   "cell_type": "code",
   "execution_count": 14,
   "metadata": {},
   "outputs": [],
   "source": [
    "# Write your code here.\n",
    "from sklearn.model_selection import validation_curve\n",
    "param_range = np.logspace(-3, 2, num=30)\n",
    "train_scores, test_scores = validation_curve(pipeline,data, target, param_name = \"svc__gamma\", param_range=param_range,cv = cv, n_jobs=2)"
   ]
  },
  {
   "cell_type": "markdown",
   "metadata": {},
   "source": [
    "Plot the validation curve for the train and test scores."
   ]
  },
  {
   "cell_type": "code",
   "execution_count": 24,
   "metadata": {},
   "outputs": [
    {
     "data": {
      "image/png": "[encoded data removed]",
      "text/plain": [
       "<Figure size 432x288 with 1 Axes>"
      ]
     },
     "metadata": {
      "needs_background": "light"
     },
     "output_type": "display_data"
    }
   ],
   "source": [
    "# Write your code here.\n",
    "import matplotlib.pyplot as plt\n",
    "plt.errorbar(param_range, test_scores.mean(axis = 1),yerr=test_scores.std(axis=1), label = \"test score\")\n",
    "plt.errorbar(param_range, train_scores.mean(axis = 1),yerr=train_scores.std(axis=1), label = \"train score\")\n",
    "plt.legend()\n",
    "plt.xscale('log')\n",
    "plt.xlabel(r\"Value of hyperparameter $\\gamma$\")\n",
    "plt.ylabel(\"Accuracy score\")\n",
    "_ = plt.title(\"Validation score of support vector machine\")"
   ]
  },
  {
   "cell_type": "markdown",
   "metadata": {},
   "source": [
    "Looking at the curve, we can clearly identify the over-fitting regime of the SVC classifier when gamma > 1. The best setting is around gamma = 1 while for gamma < 1, it is not very clear if the classifier is under-fitting but the testing score is worse than for gamma = 1.\n",
    "\n",
    "Now, you can perform an analysis to check whether adding new samples to the\n",
    "dataset could help our model to better generalize. Compute the learning curve\n",
    "(using [`sklearn.model_selection.learning_curve`](https://scikit-learn.org/stable/modules/generated/sklearn.model_selection.learning_curve.html))\n",
    "by computing the train and test scores for different training dataset size.\n",
    "Plot the train and test scores with respect to the number of samples."
   ]
  },
  {
   "cell_type": "code",
   "execution_count": 28,
   "metadata": {},
   "outputs": [],
   "source": [
    "# Write your code here.\n",
    "from sklearn.model_selection import learning_curve\n",
    "train_sizes = np.linspace(0.1,1,10)\n",
    "results = learning_curve(pipeline, data, target, train_sizes = train_sizes,\n",
    "                                          cv= cv, n_jobs = 2)\n",
    "train_size, train_scores, test_scores = results[:3]"
   ]
  },
  {
   "cell_type": "code",
   "execution_count": 31,
   "metadata": {},
   "outputs": [
    {
     "data": {
      "image/png": "[encoded data removed]",
      "text/plain": [
       "<Figure size 432x288 with 1 Axes>"
      ]
     },
     "metadata": {
      "needs_background": "light"
     },
     "output_type": "display_data"
    }
   ],
   "source": [
    "plt.errorbar(train_size, test_scores.mean(axis = 1),yerr=test_scores.std(axis=1), label = \"test score\")\n",
    "plt.errorbar(train_size, train_scores.mean(axis = 1),yerr=train_scores.std(axis=1), label = \"train score\")\n",
    "plt.legend()\n",
    "\n",
    "plt.xlabel(r\"Value of hyperparameter $\\gamma$\")\n",
    "plt.ylabel(\"Accuracy score\")\n",
    "_ = plt.title(\"Validation score of support vector machine\")"
   ]
  },
  {
   "cell_type": "markdown",
   "metadata": {},
   "source": [
    "We observe that adding new samples in the dataset does not improve the testing score. We can only conclude that the standard deviation of the training error is decreasing when adding more samples which is not a surprise."
   ]
  },
  {
   "cell_type": "code",
   "execution_count": null,
   "metadata": {},
   "outputs": [],
   "source": []
  }
 ],
 "metadata": {
  "jupytext": {
   "cell_metadata_filter": "-all",
   "main_language": "python",
   "notebook_metadata_filter": "-all"
  },
  "kernelspec": {
   "display_name": "Python 3",
   "language": "python",
   "name": "python3"
  },
  "language_info": {
   "codemirror_mode": {
    "name": "ipython",
    "version": 3
   },
   "file_extension": ".py",
   "mimetype": "text/x-python",
   "name": "python",
   "nbconvert_exporter": "python",
   "pygments_lexer": "ipython3",
   "version": "3.7.4"
  },
  "nbreset": "https://github.com/INRIA/scikit-learn-mooc/raw/master/notebooks/cross_validation_ex_01.ipynb"
 },
 "nbformat": 4,
 "nbformat_minor": 5
}
